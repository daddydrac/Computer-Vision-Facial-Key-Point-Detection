{
 "cells": [
  {
   "cell_type": "code",
   "execution_count": 8,
   "metadata": {},
   "outputs": [
    {
     "name": "stdout",
     "output_type": "stream",
     "text": [
      "(7.0, 15)\n",
      "(3.0, 15)\n",
      "(-1.0, 15)\n",
      "(-5.0, 15)\n"
     ]
    }
   ],
   "source": [
    "# See \"Spatial Arrangement\": http://cs231n.github.io/convolutional-networks/\n",
    "# Simulate the input/output layers for each conv2d() layer\n",
    "\n",
    "img = (11, 11, 3)\n",
    "\n",
    "def rem(x, y):\n",
    "    return x % y == 0\n",
    "\n",
    "def calc_layer(w, f, p, s, channels):\n",
    "    \n",
    "    if rem((w - f + 2*p ),(s + 1)):\n",
    "        layer = (w - f + 2*p ) / s + 1\n",
    "        return (layer, channels)\n",
    "    else:\n",
    "        print(\"Not divisible\")\n",
    "\n",
    "\n",
    "layer_1 = calc_layer(img[1]    , 5, 0, 1, img[2])\n",
    "layer_2 = calc_layer(layer_1[0], 5, 0, 1, layer_1[1])\n",
    "layer_3 = calc_layer(layer_2[0], 5, 0, 1, layer_2[1])\n",
    "layer_4 = calc_layer(layer_3[0], 5, 0, 1, layer_3[1])\n",
    "\n",
    "print(layer_1)\n",
    "\n",
    "print(layer_2)\n",
    "\n",
    "print(layer_3)\n",
    "\n",
    "print(layer_4)"
   ]
  },
  {
   "cell_type": "code",
   "execution_count": 1,
   "metadata": {},
   "outputs": [],
   "source": [
    "import numpy as np"
   ]
  },
  {
   "cell_type": "code",
   "execution_count": 4,
   "metadata": {},
   "outputs": [
    {
     "name": "stdout",
     "output_type": "stream",
     "text": [
      "(3,)\n"
     ]
    }
   ],
   "source": [
    "x = np.shape((11,11,4))\n",
    "print(x)"
   ]
  },
  {
   "cell_type": "code",
   "execution_count": null,
   "metadata": {},
   "outputs": [],
   "source": []
  }
 ],
 "metadata": {
  "kernelspec": {
   "display_name": "Python 3",
   "language": "python",
   "name": "python3"
  },
  "language_info": {
   "codemirror_mode": {
    "name": "ipython",
    "version": 3
   },
   "file_extension": ".py",
   "mimetype": "text/x-python",
   "name": "python",
   "nbconvert_exporter": "python",
   "pygments_lexer": "ipython3",
   "version": "3.7.3"
  }
 },
 "nbformat": 4,
 "nbformat_minor": 2
}
